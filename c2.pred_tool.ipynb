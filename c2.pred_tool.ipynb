{
 "cells": [
  {
   "cell_type": "code",
   "execution_count": 85,
   "metadata": {},
   "outputs": [],
   "source": [
    "import numpy as np\n",
    "import pandas as pd\n",
    "import seaborn as sns\n",
    "from sklearn.datasets import load_boston\n",
    "from sklearn.linear_model import LinearRegression\n",
    "from sklearn.metrics import mean_squared_error,mean_absolute_error\n"
   ]
  },
  {
   "cell_type": "code",
   "execution_count": 24,
   "metadata": {},
   "outputs": [],
   "source": [
    "# Gather Data\n",
    "\n",
    "boston_dataset = load_boston()\n",
    "\n",
    "data = pd.DataFrame(data=boston_dataset.data,\n",
    "                    columns=boston_dataset.feature_names)\n",
    "\n",
    "features = data.drop(['INDUS','AGE'],axis=1)\n",
    "\n",
    "log_price = np.log(boston_dataset.target)\n",
    "target = pd.DataFrame(log_price,columns=['PRICE'])\n",
    "\n"
   ]
  },
  {
   "cell_type": "code",
   "execution_count": 25,
   "metadata": {},
   "outputs": [],
   "source": [
    "CRIME_IDX = 0\n",
    "ZN_IDX =1\n",
    "CHAS_IDX = 2\n",
    "RM_IDX=4\n",
    "PTRATIO_IDX=8\n",
    "\n",
    "property_stats = np.ndarray(shape=(1,11))\n",
    "property_stats = features.mean().values.reshape(1,11)\n"
   ]
  },
  {
   "cell_type": "code",
   "execution_count": 26,
   "metadata": {},
   "outputs": [
    {
     "data": {
      "text/plain": [
       "0.03516080084618688"
      ]
     },
     "execution_count": 26,
     "metadata": {},
     "output_type": "execute_result"
    }
   ],
   "source": [
    "reg = LinearRegression().fit(features,target)\n",
    "fitted_vals = reg.predict(features)\n",
    "\n",
    "MSE = mean_squared_error(target,fitted_vals)\n",
    "RMSE = np.sqrt(MSE)\n"
   ]
  },
  {
   "cell_type": "code",
   "execution_count": 47,
   "metadata": {},
   "outputs": [],
   "source": [
    "def get_log_estimate(nr_rooms,\n",
    "                    students_per_classroom,\n",
    "                    next_to_river=False,\n",
    "                    high_confidence=True):\n",
    "    \n",
    "    # Configure property\n",
    "    \n",
    "    property_stats[0][RM_IDX] = nr_rooms\n",
    "    property_stats[0][PTRATIO_IDX]= students_per_classroom\n",
    "    \n",
    "    if next_to_river:\n",
    "        property_stats[0][CHAS_IDX] = 1   \n",
    "    else:\n",
    "        property_stats[0][CHAS_IDX] = 0\n",
    "    \n",
    "    # Make prediction\n",
    "    \n",
    "    log_estimate = reg.predict(property_stats)[0][0]\n",
    "    \n",
    "    # Calc Range\n",
    "    \n",
    "    if high_confidence:\n",
    "        upper_bound = log_estimate +2 *RMSE\n",
    "        lower_bound = log_estimate -2 *RMSE\n",
    "        interval = 95\n",
    "    else:\n",
    "        upper_bound = log_estimate + RMSE\n",
    "        lower_bound = log_estimate - RMSE\n",
    "        interval=68\n",
    "    \n",
    "    return log_estimate,upper_bound,lower_bound,interval"
   ]
  },
  {
   "cell_type": "code",
   "execution_count": 54,
   "metadata": {},
   "outputs": [
    {
     "data": {
      "text/plain": [
       "27.514150943396224"
      ]
     },
     "execution_count": 54,
     "metadata": {},
     "output_type": "execute_result"
    }
   ],
   "source": [
    "ZILLO_MEDIAN_PRICE = 583.3\n",
    "\n",
    "SCALE_FACTOR = ZILLO_MEDIAN_PRICE/np.median(boston_dataset.target)\n"
   ]
  },
  {
   "cell_type": "code",
   "execution_count": 84,
   "metadata": {},
   "outputs": [],
   "source": [
    "def get_dollar_estimate(rm,ptratio,chas=False,large_range=True):\n",
    "    \n",
    "    \"\"\"\n",
    "    Estimate the price of the property.\n",
    "    \n",
    "    Parameters\n",
    "    -----------\n",
    "    rm:        number of rooms in the property\n",
    "    ptration:  number of students per teacher in the classroom for \n",
    "               the school in the area\n",
    "    chas:      near to river(0,1)\n",
    "    large_range: cofidence interval True for 95% or False for 68%\n",
    "    \n",
    "    \n",
    "    \"\"\"\n",
    "    \n",
    "    if rm <0 or ptratio < 1:\n",
    "        print('That is unrealistic.Try again.')\n",
    "        return\n",
    "    \n",
    "\n",
    "    log_est,upper,lower,conf = get_log_estimate(rm,\n",
    "                                                ptratio,\n",
    "                                                next_to_river=chas,\n",
    "                                                high_confidence=large_range)\n",
    "    dollar_est = np.around(np.e**log_est * 1000 * SCALE_FACTOR,-3) \n",
    "    dollar_hi = np.around(np.e**upper * 1000 * SCALE_FACTOR,-3)\n",
    "    dollar_low = np.around(np.e**lower * 1000 * SCALE_FACTOR,-3)\n",
    "    \n",
    "    print(f'The estimated property value is {dollar_est}.')\n",
    "    print(f'At {conf}% confidence the valuation range.')\n",
    "    print(f'USD {dollar_low} at the lower and to USD {dollar_hi} at the high end.')\n",
    "    "
   ]
  },
  {
   "cell_type": "code",
   "execution_count": 82,
   "metadata": {},
   "outputs": [
    {
     "name": "stdout",
     "output_type": "stream",
     "text": [
      "The estimated property value is 278000.0.\n",
      "At 95% confidence the valuation range.\n",
      "USD 191000.0 at the lower and to USD 404000.0 at the high end.\n"
     ]
    }
   ],
   "source": [
    "get_dollar_estimate(rm=2,ptratio=30,chas=True)"
   ]
  },
  {
   "cell_type": "code",
   "execution_count": null,
   "metadata": {},
   "outputs": [],
   "source": []
  },
  {
   "cell_type": "code",
   "execution_count": null,
   "metadata": {},
   "outputs": [],
   "source": []
  },
  {
   "cell_type": "code",
   "execution_count": null,
   "metadata": {},
   "outputs": [],
   "source": []
  },
  {
   "cell_type": "code",
   "execution_count": null,
   "metadata": {},
   "outputs": [],
   "source": []
  },
  {
   "cell_type": "code",
   "execution_count": null,
   "metadata": {},
   "outputs": [],
   "source": []
  },
  {
   "cell_type": "code",
   "execution_count": null,
   "metadata": {},
   "outputs": [],
   "source": []
  },
  {
   "cell_type": "code",
   "execution_count": null,
   "metadata": {},
   "outputs": [],
   "source": []
  },
  {
   "cell_type": "code",
   "execution_count": null,
   "metadata": {},
   "outputs": [],
   "source": []
  },
  {
   "cell_type": "code",
   "execution_count": null,
   "metadata": {},
   "outputs": [],
   "source": []
  },
  {
   "cell_type": "code",
   "execution_count": null,
   "metadata": {},
   "outputs": [],
   "source": []
  },
  {
   "cell_type": "code",
   "execution_count": null,
   "metadata": {},
   "outputs": [],
   "source": []
  },
  {
   "cell_type": "code",
   "execution_count": null,
   "metadata": {},
   "outputs": [],
   "source": []
  },
  {
   "cell_type": "code",
   "execution_count": null,
   "metadata": {},
   "outputs": [],
   "source": []
  }
 ],
 "metadata": {
  "kernelspec": {
   "display_name": "Python 3",
   "language": "python",
   "name": "python3"
  },
  "language_info": {
   "codemirror_mode": {
    "name": "ipython",
    "version": 3
   },
   "file_extension": ".py",
   "mimetype": "text/x-python",
   "name": "python",
   "nbconvert_exporter": "python",
   "pygments_lexer": "ipython3",
   "version": "3.6.6"
  }
 },
 "nbformat": 4,
 "nbformat_minor": 2
}
